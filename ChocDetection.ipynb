{
  "nbformat": 4,
  "nbformat_minor": 0,
  "metadata": {
    "colab": {
      "name": "ChocDetection.ipynb",
      "provenance": [],
      "collapsed_sections": [],
      "toc_visible": true
    },
    "kernelspec": {
      "display_name": "Python 3",
      "name": "python3"
    },
    "language_info": {
      "name": "python"
    }
  },
  "cells": [
    {
      "cell_type": "code",
      "metadata": {
        "id": "2eQ2HzcT_6su"
      },
      "source": [
        "import tensorflow as tf\n",
        "from keras.models import Sequential\n",
        "import pandas as pd\n",
        "from keras.layers import Dense\n"
      ],
      "execution_count": null,
      "outputs": []
    },
    {
      "cell_type": "code",
      "source": [],
      "metadata": {
        "id": "qRVU8uywBhhX"
      },
      "execution_count": null,
      "outputs": []
    },
    {
      "cell_type": "code",
      "metadata": {
        "id": "s_ZeS88Y_9pg"
      },
      "source": [
        "data=pd.read_csv('/content/mobile_accelerometer_car_data.csv')"
      ],
      "execution_count": null,
      "outputs": []
    },
    {
      "cell_type": "markdown",
      "metadata": {
        "id": "90lMXHPPIUEI"
      },
      "source": [
        "Commençons par parcourir les données en listant les valeurs maximales, minimales et moyennes"
      ]
    },
    {
      "cell_type": "code",
      "metadata": {
        "colab": {
          "base_uri": "https://localhost:8080/",
          "height": 300
        },
        "id": "ECmYjNX7AUXN",
        "outputId": "6e8d9118-02e7-4b2e-9b3f-920fd04ad356"
      },
      "source": [
        "data.describe()"
      ],
      "execution_count": null,
      "outputs": [
        {
          "output_type": "execute_result",
          "data": {
            "text/plain": [
              "               acc_x          acc_y          acc_z         target\n",
              "count  120000.000000  120000.000000  120000.000000  120000.000000\n",
              "mean       -0.354549       5.367115       6.729311       0.500000\n",
              "std         1.931744       3.420114       2.588606       0.500002\n",
              "min       -12.509735     -19.051361     -19.093689       0.000000\n",
              "25%        -1.116619       1.902695       4.829160       0.000000\n",
              "50%        -0.529119       6.922834       6.459327       0.500000\n",
              "75%        -0.092177       8.182184       9.212952       1.000000\n",
              "max        36.782090      13.737244      60.973206       1.000000"
            ],
            "text/html": [
              "\n",
              "  <div id=\"df-6762fa3a-a2a5-4024-8ce3-b5b2266997fa\">\n",
              "    <div class=\"colab-df-container\">\n",
              "      <div>\n",
              "<style scoped>\n",
              "    .dataframe tbody tr th:only-of-type {\n",
              "        vertical-align: middle;\n",
              "    }\n",
              "\n",
              "    .dataframe tbody tr th {\n",
              "        vertical-align: top;\n",
              "    }\n",
              "\n",
              "    .dataframe thead th {\n",
              "        text-align: right;\n",
              "    }\n",
              "</style>\n",
              "<table border=\"1\" class=\"dataframe\">\n",
              "  <thead>\n",
              "    <tr style=\"text-align: right;\">\n",
              "      <th></th>\n",
              "      <th>acc_x</th>\n",
              "      <th>acc_y</th>\n",
              "      <th>acc_z</th>\n",
              "      <th>target</th>\n",
              "    </tr>\n",
              "  </thead>\n",
              "  <tbody>\n",
              "    <tr>\n",
              "      <th>count</th>\n",
              "      <td>120000.000000</td>\n",
              "      <td>120000.000000</td>\n",
              "      <td>120000.000000</td>\n",
              "      <td>120000.000000</td>\n",
              "    </tr>\n",
              "    <tr>\n",
              "      <th>mean</th>\n",
              "      <td>-0.354549</td>\n",
              "      <td>5.367115</td>\n",
              "      <td>6.729311</td>\n",
              "      <td>0.500000</td>\n",
              "    </tr>\n",
              "    <tr>\n",
              "      <th>std</th>\n",
              "      <td>1.931744</td>\n",
              "      <td>3.420114</td>\n",
              "      <td>2.588606</td>\n",
              "      <td>0.500002</td>\n",
              "    </tr>\n",
              "    <tr>\n",
              "      <th>min</th>\n",
              "      <td>-12.509735</td>\n",
              "      <td>-19.051361</td>\n",
              "      <td>-19.093689</td>\n",
              "      <td>0.000000</td>\n",
              "    </tr>\n",
              "    <tr>\n",
              "      <th>25%</th>\n",
              "      <td>-1.116619</td>\n",
              "      <td>1.902695</td>\n",
              "      <td>4.829160</td>\n",
              "      <td>0.000000</td>\n",
              "    </tr>\n",
              "    <tr>\n",
              "      <th>50%</th>\n",
              "      <td>-0.529119</td>\n",
              "      <td>6.922834</td>\n",
              "      <td>6.459327</td>\n",
              "      <td>0.500000</td>\n",
              "    </tr>\n",
              "    <tr>\n",
              "      <th>75%</th>\n",
              "      <td>-0.092177</td>\n",
              "      <td>8.182184</td>\n",
              "      <td>9.212952</td>\n",
              "      <td>1.000000</td>\n",
              "    </tr>\n",
              "    <tr>\n",
              "      <th>max</th>\n",
              "      <td>36.782090</td>\n",
              "      <td>13.737244</td>\n",
              "      <td>60.973206</td>\n",
              "      <td>1.000000</td>\n",
              "    </tr>\n",
              "  </tbody>\n",
              "</table>\n",
              "</div>\n",
              "      <button class=\"colab-df-convert\" onclick=\"convertToInteractive('df-6762fa3a-a2a5-4024-8ce3-b5b2266997fa')\"\n",
              "              title=\"Convert this dataframe to an interactive table.\"\n",
              "              style=\"display:none;\">\n",
              "        \n",
              "  <svg xmlns=\"http://www.w3.org/2000/svg\" height=\"24px\"viewBox=\"0 0 24 24\"\n",
              "       width=\"24px\">\n",
              "    <path d=\"M0 0h24v24H0V0z\" fill=\"none\"/>\n",
              "    <path d=\"M18.56 5.44l.94 2.06.94-2.06 2.06-.94-2.06-.94-.94-2.06-.94 2.06-2.06.94zm-11 1L8.5 8.5l.94-2.06 2.06-.94-2.06-.94L8.5 2.5l-.94 2.06-2.06.94zm10 10l.94 2.06.94-2.06 2.06-.94-2.06-.94-.94-2.06-.94 2.06-2.06.94z\"/><path d=\"M17.41 7.96l-1.37-1.37c-.4-.4-.92-.59-1.43-.59-.52 0-1.04.2-1.43.59L10.3 9.45l-7.72 7.72c-.78.78-.78 2.05 0 2.83L4 21.41c.39.39.9.59 1.41.59.51 0 1.02-.2 1.41-.59l7.78-7.78 2.81-2.81c.8-.78.8-2.07 0-2.86zM5.41 20L4 18.59l7.72-7.72 1.47 1.35L5.41 20z\"/>\n",
              "  </svg>\n",
              "      </button>\n",
              "      \n",
              "  <style>\n",
              "    .colab-df-container {\n",
              "      display:flex;\n",
              "      flex-wrap:wrap;\n",
              "      gap: 12px;\n",
              "    }\n",
              "\n",
              "    .colab-df-convert {\n",
              "      background-color: #E8F0FE;\n",
              "      border: none;\n",
              "      border-radius: 50%;\n",
              "      cursor: pointer;\n",
              "      display: none;\n",
              "      fill: #1967D2;\n",
              "      height: 32px;\n",
              "      padding: 0 0 0 0;\n",
              "      width: 32px;\n",
              "    }\n",
              "\n",
              "    .colab-df-convert:hover {\n",
              "      background-color: #E2EBFA;\n",
              "      box-shadow: 0px 1px 2px rgba(60, 64, 67, 0.3), 0px 1px 3px 1px rgba(60, 64, 67, 0.15);\n",
              "      fill: #174EA6;\n",
              "    }\n",
              "\n",
              "    [theme=dark] .colab-df-convert {\n",
              "      background-color: #3B4455;\n",
              "      fill: #D2E3FC;\n",
              "    }\n",
              "\n",
              "    [theme=dark] .colab-df-convert:hover {\n",
              "      background-color: #434B5C;\n",
              "      box-shadow: 0px 1px 3px 1px rgba(0, 0, 0, 0.15);\n",
              "      filter: drop-shadow(0px 1px 2px rgba(0, 0, 0, 0.3));\n",
              "      fill: #FFFFFF;\n",
              "    }\n",
              "  </style>\n",
              "\n",
              "      <script>\n",
              "        const buttonEl =\n",
              "          document.querySelector('#df-6762fa3a-a2a5-4024-8ce3-b5b2266997fa button.colab-df-convert');\n",
              "        buttonEl.style.display =\n",
              "          google.colab.kernel.accessAllowed ? 'block' : 'none';\n",
              "\n",
              "        async function convertToInteractive(key) {\n",
              "          const element = document.querySelector('#df-6762fa3a-a2a5-4024-8ce3-b5b2266997fa');\n",
              "          const dataTable =\n",
              "            await google.colab.kernel.invokeFunction('convertToInteractive',\n",
              "                                                     [key], {});\n",
              "          if (!dataTable) return;\n",
              "\n",
              "          const docLinkHtml = 'Like what you see? Visit the ' +\n",
              "            '<a target=\"_blank\" href=https://colab.research.google.com/notebooks/data_table.ipynb>data table notebook</a>'\n",
              "            + ' to learn more about interactive tables.';\n",
              "          element.innerHTML = '';\n",
              "          dataTable['output_type'] = 'display_data';\n",
              "          await google.colab.output.renderOutput(dataTable, element);\n",
              "          const docLink = document.createElement('div');\n",
              "          docLink.innerHTML = docLinkHtml;\n",
              "          element.appendChild(docLink);\n",
              "        }\n",
              "      </script>\n",
              "    </div>\n",
              "  </div>\n",
              "  "
            ]
          },
          "metadata": {},
          "execution_count": 3
        }
      ]
    },
    {
      "cell_type": "code",
      "metadata": {
        "colab": {
          "base_uri": "https://localhost:8080/"
        },
        "id": "Ug8p1EkyA16W",
        "outputId": "92295214-284d-4be8-ff6b-a8e788d59113"
      },
      "source": [
        " data.info()"
      ],
      "execution_count": null,
      "outputs": [
        {
          "output_type": "stream",
          "name": "stdout",
          "text": [
            "<class 'pandas.core.frame.DataFrame'>\n",
            "RangeIndex: 120000 entries, 0 to 119999\n",
            "Data columns (total 4 columns):\n",
            " #   Column  Non-Null Count   Dtype  \n",
            "---  ------  --------------   -----  \n",
            " 0   acc_x   120000 non-null  float64\n",
            " 1   acc_y   120000 non-null  float64\n",
            " 2   acc_z   120000 non-null  float64\n",
            " 3   target  120000 non-null  int64  \n",
            "dtypes: float64(3), int64(1)\n",
            "memory usage: 3.7 MB\n"
          ]
        }
      ]
    },
    {
      "cell_type": "markdown",
      "metadata": {
        "id": "KlCATo2QJHFA"
      },
      "source": [
        "**Vérifier la corrélation avec le graphique de la carte thermique**"
      ]
    },
    {
      "cell_type": "markdown",
      "metadata": {
        "id": "i6Rte4D-JR7b"
      },
      "source": [
        "Ensuite, exécutez ce code pour voir toute corrélation entre les variables. Ce n'est pas important pour le modèle final, mais est utile pour mieux comprendre les données.\n",
        "\n",
        "Seaborn crée un graphique de type heatmap, en traçant chaque valeur de l'ensemble de données par rapport à lui-même et à chaque autre valeur. Ensuite, il détermine si ces deux valeurs sont en quelque sorte corrélées entre elles."
      ]
    },
    {
      "cell_type": "code",
      "metadata": {
        "colab": {
          "base_uri": "https://localhost:8080/",
          "height": 286
        },
        "id": "3p-AN5JsDFaA",
        "outputId": "c0f56e5a-ade1-4886-dd1c-8e5ecc14f527"
      },
      "source": [
        "import seaborn as sns\n",
        "import matplotlib as plt\n",
        "corr = data.corr()\n",
        "sns.heatmap(corr, \n",
        "            xticklabels=corr.columns.values,\n",
        "            yticklabels=corr.columns.values)"
      ],
      "execution_count": null,
      "outputs": [
        {
          "output_type": "execute_result",
          "data": {
            "text/plain": [
              "<matplotlib.axes._subplots.AxesSubplot at 0x7fbb62cbb850>"
            ]
          },
          "metadata": {},
          "execution_count": 5
        },
        {
          "output_type": "display_data",
          "data": {
            "text/plain": [
              "<Figure size 432x288 with 2 Axes>"
            ],
            "image/png": "[encoded data removed]"
          },
          "metadata": {
            "needs_background": "light"
          }
        }
      ]
    },
    {
      "cell_type": "markdown",
      "metadata": {
        "id": "0LiOlS2mKmNh"
      },
      "source": [
        "**Préparer les ensembles de données de test et de formation**"
      ]
    },
    {
      "cell_type": "code",
      "metadata": {
        "id": "FYejN0urDOY7"
      },
      "source": [
        "\n",
        "import numpy as np\n",
        "\n",
        "labels=data['target']\n",
        "features = data.iloc[:,0:3]\n",
        "\n",
        "from sklearn.model_selection import train_test_split\n",
        "\n",
        "X=features\n",
        "\n",
        "y=np.ravel(labels)\n",
        "\n",
        "X_train, X_test, y_train, y_test = train_test_split(X, y, test_size=0.33, random_state=42) "
      ],
      "execution_count": null,
      "outputs": []
    },
    {
      "cell_type": "markdown",
      "metadata": {
        "id": "9Th1LaA4LXMJ"
      },
      "source": [
        "StandardScaler le fait en deux étapes:  fit () et transform () ."
      ]
    },
    {
      "cell_type": "code",
      "metadata": {
        "id": "KH0o2wfZDgMn"
      },
      "source": [
        "from sklearn.preprocessing import StandardScaler\n",
        "\n",
        "scaler = StandardScaler().fit(X_train)\n",
        "\n",
        "X_train = scaler.transform(X_train)\n",
        "\n",
        "X_test = scaler.transform(X_test)  "
      ],
      "execution_count": null,
      "outputs": []
    },
    {
      "cell_type": "markdown",
      "metadata": {
        "id": "PmQJt5rgLleI"
      },
      "source": [
        "**Le modèle séquentiel Keras**"
      ]
    },
    {
      "cell_type": "code",
      "metadata": {
        "id": "jeb4Zn6qDtvd"
      },
      "source": [
        "from keras.models import Sequential\n",
        "from keras.layers import Dense\n",
        "\n",
        "model = Sequential()\n",
        "\n",
        "model.add(Dense(8, activation='relu', input_shape=(3,)))\n",
        "\n",
        "model.add(Dense(8, activation='relu'))\n",
        "\n",
        "model.add(Dense(1, activation='sigmoid'))"
      ],
      "execution_count": null,
      "outputs": []
    },
    {
      "cell_type": "code",
      "metadata": {
        "colab": {
          "base_uri": "https://localhost:8080/"
        },
        "id": "hhUQJz6dD6dV",
        "outputId": "6531e7e2-8375-4481-c149-fc3d204d42e2"
      },
      "source": [
        "model.compile(loss='binary_crossentropy',\n",
        "              optimizer='sgd',\n",
        "              metrics=['accuracy'])\n",
        "                   \n",
        "model.fit(X_train, y_train,epochs=4, batch_size=1, verbose=1)"
      ],
      "execution_count": null,
      "outputs": [
        {
          "output_type": "stream",
          "name": "stdout",
          "text": [
            "Epoch 1/4\n",
            "80400/80400 [==============================] - 115s 1ms/step - loss: 0.1747 - accuracy: 0.9340\n",
            "Epoch 2/4\n",
            "80400/80400 [==============================] - 113s 1ms/step - loss: 0.1657 - accuracy: 0.9383\n",
            "Epoch 3/4\n",
            "80400/80400 [==============================] - 115s 1ms/step - loss: 0.1602 - accuracy: 0.9403\n",
            "Epoch 4/4\n",
            "80400/80400 [==============================] - 112s 1ms/step - loss: 0.1556 - accuracy: 0.9405\n"
          ]
        },
        {
          "output_type": "execute_result",
          "data": {
            "text/plain": [
              "<keras.callbacks.History at 0x7fbb5df53110>"
            ]
          },
          "metadata": {},
          "execution_count": 9
        }
      ]
    },
    {
      "cell_type": "code",
      "metadata": {
        "id": "VPQNQMRmEBWL"
      },
      "source": [
        "for layer in model.layers:\n",
        "    weights = layer.get_weights()"
      ],
      "execution_count": null,
      "outputs": []
    },
    {
      "cell_type": "code",
      "metadata": {
        "colab": {
          "base_uri": "https://localhost:8080/",
          "height": 422
        },
        "id": "-eA6VWimFW0k",
        "outputId": "b52b15f1-1406-4000-c6c1-6d40466761c7"
      },
      "source": [
        "##from keras.utils import plot_model\n",
        "tf.keras.utils.plot_model(model, to_file='/tmp/model.png', show_shapes=True,)"
      ],
      "execution_count": null,
      "outputs": [
        {
          "output_type": "execute_result",
          "data": {
            "image/png": "[encoded data removed]",
            "text/plain": [
              "<IPython.core.display.Image object>"
            ]
          },
          "metadata": {},
          "execution_count": 11
        }
      ]
    },
    {
      "cell_type": "code",
      "metadata": {
        "id": "rAUKJiJ4GX4-"
      },
      "source": [
        "y_pred = model.predict(X_test)"
      ],
      "execution_count": null,
      "outputs": []
    },
    {
      "cell_type": "code",
      "metadata": {
        "colab": {
          "base_uri": "https://localhost:8080/"
        },
        "id": "SByR-Qr-GdDw",
        "outputId": "b78f1d2d-8dfd-4956-c9a1-fefbda778ee5"
      },
      "source": [
        "score = model.evaluate(X_test, y_test,verbose=1)\n",
        "\n",
        "print(score)"
      ],
      "execution_count": null,
      "outputs": [
        {
          "output_type": "stream",
          "name": "stdout",
          "text": [
            "1238/1238 [==============================] - 2s 1ms/step - loss: 0.1621 - accuracy: 0.9367\n",
            "[0.1620846688747406, 0.93669193983078]\n"
          ]
        }
      ]
    },
    {
      "cell_type": "markdown",
      "metadata": {
        "id": "vo_4CZqsQ6Ze"
      },
      "source": [
        "Ainsi, notre modèle prédictif est précis à 93%."
      ]
    },
    {
      "cell_type": "code",
      "metadata": {
        "colab": {
          "base_uri": "https://localhost:8080/"
        },
        "id": "O6YUdF9ea9o_",
        "outputId": "5f2c65df-3576-4c69-ecae-2b3763646c60"
      },
      "source": [
        "import tensorflow as tf\n",
        "\n",
        "# Create a converter\n",
        "converter = tf.lite.TFLiteConverter.from_keras_model(model)\n",
        "# Convert the model\n",
        "tflite_model = converter.convert()\n",
        "# Create the tflite model file\n",
        "tflite_model_name = \"mymodel.tflite\"\n",
        "open(tflite_model_name, \"wb\").write(tflite_model)\n",
        "# Set quantize to true \n",
        "converter.post_training_quantize=True"
      ],
      "execution_count": null,
      "outputs": [
        {
          "output_type": "stream",
          "name": "stderr",
          "text": [
            "WARNING:absl:Buffer deduplication procedure will be skipped when flatbuffer library is not properly loaded\n"
          ]
        }
      ]
    }
  ]
}