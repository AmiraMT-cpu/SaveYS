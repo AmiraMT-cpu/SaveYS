{
  "nbformat": 4,
  "nbformat_minor": 0,
  "metadata": {
    "colab": {
      "name": "KerasPFA.ipynb",
      "provenance": [],
      "collapsed_sections": []
    },
    "kernelspec": {
      "display_name": "Python 3",
      "name": "python3"
    },
    "language_info": {
      "name": "python"
    }
  },
  "cells": [
    {
      "cell_type": "code",
      "metadata": {
        "id": "2eQ2HzcT_6su"
      },
      "source": [
        "import tensorflow as tf\n",
        "from keras.models import Sequential\n",
        "import pandas as pd\n",
        "from keras.layers import Dense\n"
      ],
      "execution_count": null,
      "outputs": []
    },
    {
      "cell_type": "markdown",
      "metadata": {
        "id": "JRSiJUCkHy0d"
      },
      "source": [
        "Une première étape de l'analyse des données devrait être le traçage car il est plus facile de voir si nous pouvons discerner un modèle.\n",
        "\n",
        "Nous pourrions commencer par chercher à voir s'il existe une corrélation entre les variables. Nous utilisons donc le puissant graphique de corrélation Seaborn . Seaborn est une extension de matplotlib.\n"
      ]
    },
    {
      "cell_type": "code",
      "metadata": {
        "id": "s_ZeS88Y_9pg"
      },
      "source": [
        "data=pd.read_csv('/content/mobile_accelerometer_car_12K.csv')"
      ],
      "execution_count": null,
      "outputs": []
    },
    {
      "cell_type": "markdown",
      "metadata": {
        "id": "90lMXHPPIUEI"
      },
      "source": [
        "Commençons par parcourir les données en listant les valeurs maximales, minimales et moyennes"
      ]
    },
    {
      "cell_type": "code",
      "metadata": {
        "colab": {
          "base_uri": "https://localhost:8080/",
          "height": 297
        },
        "id": "ECmYjNX7AUXN",
        "outputId": "c7a65cd4-62d0-4948-a2f3-d29d2314382f"
      },
      "source": [
        "data.describe()"
      ],
      "execution_count": null,
      "outputs": [
        {
          "output_type": "execute_result",
          "data": {
            "text/html": [
              "<div>\n",
              "<style scoped>\n",
              "    .dataframe tbody tr th:only-of-type {\n",
              "        vertical-align: middle;\n",
              "    }\n",
              "\n",
              "    .dataframe tbody tr th {\n",
              "        vertical-align: top;\n",
              "    }\n",
              "\n",
              "    .dataframe thead th {\n",
              "        text-align: right;\n",
              "    }\n",
              "</style>\n",
              "<table border=\"1\" class=\"dataframe\">\n",
              "  <thead>\n",
              "    <tr style=\"text-align: right;\">\n",
              "      <th></th>\n",
              "      <th>acc_x</th>\n",
              "      <th>acc_y</th>\n",
              "      <th>acc_z</th>\n",
              "      <th>target</th>\n",
              "    </tr>\n",
              "  </thead>\n",
              "  <tbody>\n",
              "    <tr>\n",
              "      <th>count</th>\n",
              "      <td>120000.000000</td>\n",
              "      <td>120000.000000</td>\n",
              "      <td>120000.000000</td>\n",
              "      <td>120000.000000</td>\n",
              "    </tr>\n",
              "    <tr>\n",
              "      <th>mean</th>\n",
              "      <td>-0.354549</td>\n",
              "      <td>5.367115</td>\n",
              "      <td>6.729311</td>\n",
              "      <td>0.500000</td>\n",
              "    </tr>\n",
              "    <tr>\n",
              "      <th>std</th>\n",
              "      <td>1.931744</td>\n",
              "      <td>3.420114</td>\n",
              "      <td>2.588606</td>\n",
              "      <td>0.500002</td>\n",
              "    </tr>\n",
              "    <tr>\n",
              "      <th>min</th>\n",
              "      <td>-12.509735</td>\n",
              "      <td>-19.051361</td>\n",
              "      <td>-19.093689</td>\n",
              "      <td>0.000000</td>\n",
              "    </tr>\n",
              "    <tr>\n",
              "      <th>25%</th>\n",
              "      <td>-1.116619</td>\n",
              "      <td>1.902695</td>\n",
              "      <td>4.829160</td>\n",
              "      <td>0.000000</td>\n",
              "    </tr>\n",
              "    <tr>\n",
              "      <th>50%</th>\n",
              "      <td>-0.529119</td>\n",
              "      <td>6.922834</td>\n",
              "      <td>6.459327</td>\n",
              "      <td>0.500000</td>\n",
              "    </tr>\n",
              "    <tr>\n",
              "      <th>75%</th>\n",
              "      <td>-0.092177</td>\n",
              "      <td>8.182184</td>\n",
              "      <td>9.212952</td>\n",
              "      <td>1.000000</td>\n",
              "    </tr>\n",
              "    <tr>\n",
              "      <th>max</th>\n",
              "      <td>36.782090</td>\n",
              "      <td>13.737244</td>\n",
              "      <td>60.973206</td>\n",
              "      <td>1.000000</td>\n",
              "    </tr>\n",
              "  </tbody>\n",
              "</table>\n",
              "</div>"
            ],
            "text/plain": [
              "               acc_x          acc_y          acc_z         target\n",
              "count  120000.000000  120000.000000  120000.000000  120000.000000\n",
              "mean       -0.354549       5.367115       6.729311       0.500000\n",
              "std         1.931744       3.420114       2.588606       0.500002\n",
              "min       -12.509735     -19.051361     -19.093689       0.000000\n",
              "25%        -1.116619       1.902695       4.829160       0.000000\n",
              "50%        -0.529119       6.922834       6.459327       0.500000\n",
              "75%        -0.092177       8.182184       9.212952       1.000000\n",
              "max        36.782090      13.737244      60.973206       1.000000"
            ]
          },
          "metadata": {
            "tags": []
          },
          "execution_count": 3
        }
      ]
    },
    {
      "cell_type": "markdown",
      "metadata": {
        "id": "GX0rFEkKI6uI"
      },
      "source": [
        "Vous pouvez également inspecter les valeurs dans le dataframe comme ceci:"
      ]
    },
    {
      "cell_type": "code",
      "metadata": {
        "colab": {
          "base_uri": "https://localhost:8080/"
        },
        "id": "Ug8p1EkyA16W",
        "outputId": "e177a754-9c7b-481a-df12-abc81e447243"
      },
      "source": [
        " data.info()"
      ],
      "execution_count": null,
      "outputs": [
        {
          "output_type": "stream",
          "text": [
            "<class 'pandas.core.frame.DataFrame'>\n",
            "RangeIndex: 120000 entries, 0 to 119999\n",
            "Data columns (total 4 columns):\n",
            " #   Column  Non-Null Count   Dtype  \n",
            "---  ------  --------------   -----  \n",
            " 0   acc_x   120000 non-null  float64\n",
            " 1   acc_y   120000 non-null  float64\n",
            " 2   acc_z   120000 non-null  float64\n",
            " 3   target  120000 non-null  int64  \n",
            "dtypes: float64(3), int64(1)\n",
            "memory usage: 3.7 MB\n"
          ],
          "name": "stdout"
        }
      ]
    },
    {
      "cell_type": "markdown",
      "metadata": {
        "id": "KlCATo2QJHFA"
      },
      "source": [
        "**Vérifier la corrélation avec le graphique de la carte thermique**"
      ]
    },
    {
      "cell_type": "markdown",
      "metadata": {
        "id": "i6Rte4D-JR7b"
      },
      "source": [
        "Ensuite, exécutez ce code pour voir toute corrélation entre les variables. Ce n'est pas important pour le modèle final, mais est utile pour mieux comprendre les données.\n",
        "\n",
        "Seaborn crée un graphique de type heatmap, en traçant chaque valeur de l'ensemble de données par rapport à lui-même et à chaque autre valeur. Ensuite, il détermine si ces deux valeurs sont en quelque sorte corrélées entre elles."
      ]
    },
    {
      "cell_type": "code",
      "metadata": {
        "colab": {
          "base_uri": "https://localhost:8080/",
          "height": 286
        },
        "id": "3p-AN5JsDFaA",
        "outputId": "9546441d-afc3-402c-ff8e-b5ae0c18a1df"
      },
      "source": [
        "import seaborn as sns\n",
        "import matplotlib as plt\n",
        "corr = data.corr()\n",
        "sns.heatmap(corr, \n",
        "            xticklabels=corr.columns.values,\n",
        "            yticklabels=corr.columns.values)"
      ],
      "execution_count": null,
      "outputs": [
        {
          "output_type": "execute_result",
          "data": {
            "text/plain": [
              "<matplotlib.axes._subplots.AxesSubplot at 0x7ff467ec6750>"
            ]
          },
          "metadata": {
            "tags": []
          },
          "execution_count": 5
        },
        {
          "output_type": "display_data",
          "data": {
            "image/png": "[encoded data removed]",
            "text/plain": [
              "<Figure size 432x288 with 2 Axes>"
            ]
          },
          "metadata": {
            "tags": [],
            "needs_background": "light"
          }
        }
      ]
    },
    {
      "cell_type": "markdown",
      "metadata": {
        "id": "0LiOlS2mKmNh"
      },
      "source": [
        "**Préparer les ensembles de données de test et de formation**"
      ]
    },
    {
      "cell_type": "markdown",
      "metadata": {
        "id": "E2pjuRYwK4uf"
      },
      "source": [
        "Le résultat est la colonne avec l'étiquette (0 ou 1).\n",
        "Le reste des colonnes sont les fonctionnalités.\n",
        "Nous utilisons la fonction scikit-learn train_test_split (X, y, test_size = 0,33, random_state = 42) pour diviser les données en ensembles de données d'apprentissage et de test, étant donné 33% des enregistrements de l'ensemble de données de test. L' ensemble de données d' entraînement est utilisé pour entraîner le mode, c'est-à-dire trouver les poids et les biais. L' ensemble de données de test est utilisé pour vérifier son exactitude.\n",
        "labels n'est pas un tableau. C'est une colonne dans un ensemble de données. Nous utilisons donc le np NumPy . ravel () pour convertir cela en tableau."
      ]
    },
    {
      "cell_type": "code",
      "metadata": {
        "id": "FYejN0urDOY7"
      },
      "source": [
        "\n",
        "import numpy as np\n",
        "\n",
        "labels=data['target']\n",
        "features = data.iloc[:,0:3]\n",
        "\n",
        "from sklearn.model_selection import train_test_split\n",
        "\n",
        "X=features\n",
        "\n",
        "y=np.ravel(labels)\n",
        "\n",
        "X_train, X_test, y_train, y_test = train_test_split(X, y, test_size=0.33, random_state=42) "
      ],
      "execution_count": null,
      "outputs": []
    },
    {
      "cell_type": "markdown",
      "metadata": {
        "id": "XbzKjrcjLFjA"
      },
      "source": [
        "Maintenant, nous normalisons les valeurs, c'est-à-dire prenons chaque x dans l'ensemble de données d'apprentissage et de test et calculons (x - μ) / δ, ou la distance de la moyenne (μ) divisée par l'écart type (δ). Cela a mis les données à une échelle standard, ce qui est une pratique standard avec l'apprentissage automatique."
      ]
    },
    {
      "cell_type": "markdown",
      "metadata": {
        "id": "9Th1LaA4LXMJ"
      },
      "source": [
        "StandardScaler le fait en deux étapes:  fit () et transform () ."
      ]
    },
    {
      "cell_type": "code",
      "metadata": {
        "id": "KH0o2wfZDgMn"
      },
      "source": [
        "from sklearn.preprocessing import StandardScaler\n",
        "\n",
        "scaler = StandardScaler().fit(X_train)\n",
        "\n",
        "X_train = scaler.transform(X_train)\n",
        "\n",
        "X_test = scaler.transform(X_test)  "
      ],
      "execution_count": null,
      "outputs": []
    },
    {
      "cell_type": "markdown",
      "metadata": {
        "id": "PmQJt5rgLleI"
      },
      "source": [
        "**Le modèle séquentiel Keras**"
      ]
    },
    {
      "cell_type": "markdown",
      "metadata": {
        "id": "R3Jnec95Lt6B"
      },
      "source": [
        "Le code ci-dessous a créé un modèle séquentiel Keras, ce qui signifie construire les couches du réseau de neurones en les ajoutant une à la fois, par opposition à d'autres techniques et types de réseaux de neurones."
      ]
    },
    {
      "cell_type": "markdown",
      "metadata": {
        "id": "fc2hcHXiNG-u"
      },
      "source": [
        "**Fonction d'activation**\n",
        "Choisissez une fonction d'activation pour chaque couche. Il prend que ((w • x) + b) et calcule une probabilité. Ensuite, il définit un seuil pour déterminer si le neurone ((w • x) + b) doit être 1 (vrai) ou (0) négatif. (Ce n'est pas la même chose que de dire diabétique, 1 ou non, 0, car les réseaux de neurones peuvent gérer des problèmes avec plus que deux résultats distincts.)\n",
        "\n",
        "Pour les deux premières couches, nous utilisons une fonction d'activation **relu**(unité linéaire rectifiée). Ce choix ne veut rien dire, car vous auriez pu choisir **sigmoïde** . reluI vaut 1 pour toutes les valeurs positives et 0 pour toutes les valeurs négatives. Donc:\n",
        "f ( x ) = 0 si x <= 0  \n",
        "f ( x ) = 1 si x > 0   "
      ]
    },
    {
      "cell_type": "markdown",
      "metadata": {
        "id": "td25BaVGNuXZ"
      },
      "source": [
        "C'est la même chose que de dire f (x) = max (0, x). Donc f (-1), par exemple = max (0, -1) = 0. En d'autres termes, si notre fonction de probabilité est négative, choisissez 0 (faux). Sinon, choisissez 1 (vrai).\n",
        "\n",
        "La règle quant à la fonction d'activation à choisir est l'essai et l'erreur. Choisissez-en différents et voyez laquelle produit les prédictions les plus précises. Il y en a d'autres: Sigmoid, tanh, Softmax, ReLU et Leaky ReLU. Certains sont plus adaptés aux sorties multiples qu'aux sorties binaires.\n",
        "\n",
        "Sigmoïde utilise la fonction logistique, 1 / (1 + e ** z) où z = f (x) = ((w • x) + b).\n",
        "\n",
        "Ce graphique de Beyond Data Science montre chaque fonction tracée sous forme de courbe.\n",
        "\n"
      ]
    },
    {
      "cell_type": "markdown",
      "metadata": {
        "id": "yvphhwGtN1Hv"
      },
      "source": [
        "Quelques notes sur le code:\n",
        "\n",
        "**input_shape ** - il suffit de lui donner la forme (dimensions) de l'entrée sur le premier calque. C'est (8,) car c'est un vecteur de 8 fonctionnalités. En d'autres termes, son 8 x 1.\n",
        "\n",
        "**Dense ** - pour appliquer la fonction d'activation sur ((w • x) + b). Le premier argument de la fonction Dense est le nombre d' unités masquées , un paramètre que vous pouvez ajuster pour améliorer la précision du modèle. Les unités cachées sont, comme le nombre de couches cachées, un sujet complexe qui n'est pas facile à comprendre ou à expliquer, mais c'est un sujet que nous pouvons ignorer en toute sécurité. (La complexité de ces deux sujets est ce qui fait que la plupart des gens disent que travailler avec des réseaux de neurones est de l' art . Un mathématicien se moquerait de ce manque de rigueur.)"
      ]
    },
    {
      "cell_type": "code",
      "metadata": {
        "id": "jeb4Zn6qDtvd"
      },
      "source": [
        "from keras.models import Sequential\n",
        "from keras.layers import Dense\n",
        "\n",
        "model = Sequential()\n",
        "\n",
        "model.add(Dense(8, activation='relu', input_shape=(3,)))\n",
        "\n",
        "model.add(Dense(8, activation='relu'))\n",
        "\n",
        "model.add(Dense(1, activation='sigmoid'))"
      ],
      "execution_count": null,
      "outputs": []
    },
    {
      "cell_type": "markdown",
      "metadata": {
        "id": "xNDvaUtqPaaw"
      },
      "source": [
        "perte - le but du réseau neuronal est de minimiser la fonction de perte, c'est-à-dire la différence entre les valeurs prédites et observées. Il existe de nombreuses fonctions que nous pouvons utiliser. Nous choisissons binary_crossentropy car nos données d'étiquette sont binaires (1) diabétiques et (0) non diabétiques."
      ]
    },
    {
      "cell_type": "markdown",
      "metadata": {
        "id": "f_i14JeGPhMW"
      },
      "source": [
        "optimizer - nous utilisons la fonction d'optimisation sgd , Stochastic Gradient Descent. C'est un algorithme conçu pour minimiser la fonction de perte de la manière la plus rapide possible. Il y en a d'autres."
      ]
    },
    {
      "cell_type": "markdown",
      "metadata": {
        "id": "f4BJWhF_PjWd"
      },
      "source": [
        "epoch: indique le nombre d'exécutions du modèle. N'oubliez pas qu'il s'agit d'un processus itératif. Vous pouvez ajouter des époques supplémentaires, mais la précision peut ne pas changer beaucoup. Il suffit d'essayer de voir."
      ]
    },
    {
      "cell_type": "markdown",
      "metadata": {
        "id": "e6itcBjAPnhF"
      },
      "source": [
        "métriques: désigne les métriques à afficher lors de son exécution. La précision signifie la précision avec laquelle le modèle en évolution prédit le résultat."
      ]
    },
    {
      "cell_type": "markdown",
      "metadata": {
        "id": "olZ75PoSPtUX"
      },
      "source": [
        "taille du lot - n signifie diviser les données d'entrée en n lots et traiter chacun en parallèle."
      ]
    },
    {
      "cell_type": "markdown",
      "metadata": {
        "id": "UqSKu4pDPvLm"
      },
      "source": [
        "fit () - parcourt le modèle, ce qui signifie calcule les poids, les biais, le nombre de couches, etc."
      ]
    },
    {
      "cell_type": "code",
      "metadata": {
        "colab": {
          "base_uri": "https://localhost:8080/"
        },
        "id": "hhUQJz6dD6dV",
        "outputId": "a61572dc-9bb3-42f6-dea4-a84ea8938f9c"
      },
      "source": [
        "model.compile(loss='binary_crossentropy',\n",
        "              optimizer='sgd',\n",
        "              metrics=['accuracy'])\n",
        "                   \n",
        "model.fit(X_train, y_train,epochs=4, batch_size=1, verbose=1)"
      ],
      "execution_count": null,
      "outputs": [
        {
          "output_type": "stream",
          "text": [
            "Epoch 1/4\n",
            "80400/80400 [==============================] - 86s 919us/step - loss: 0.1869 - accuracy: 0.9302\n",
            "Epoch 2/4\n",
            "80400/80400 [==============================] - 75s 930us/step - loss: 0.1637 - accuracy: 0.9362\n",
            "Epoch 3/4\n",
            "80400/80400 [==============================] - 75s 929us/step - loss: 0.1649 - accuracy: 0.9378\n",
            "Epoch 4/4\n",
            "80400/80400 [==============================] - 74s 924us/step - loss: 0.1619 - accuracy: 0.9370\n"
          ],
          "name": "stdout"
        },
        {
          "output_type": "execute_result",
          "data": {
            "text/plain": [
              "<keras.callbacks.History at 0x7ff46258f610>"
            ]
          },
          "metadata": {
            "tags": []
          },
          "execution_count": 9
        }
      ]
    },
    {
      "cell_type": "markdown",
      "metadata": {
        "id": "JPl453NxQMNu"
      },
      "source": [
        "Ci-dessus, nous avons parlé du processus itératif de résolution d'un réseau de neurones pour les poids et les biais. Cela se fait avec les époques. Voici la sortie telle qu'elle les exécute. Comme vous pouvez le voir, la précision augmente rapidement puis se stabilise."
      ]
    },
    {
      "cell_type": "markdown",
      "metadata": {
        "id": "zxVnd-naQWHn"
      },
      "source": [
        "Vous pouvez utiliser model.summary () pour imprimer certaines informations.\n",
        "\n",
        "Voici les poids pour chaque couche que nous mentionnons."
      ]
    },
    {
      "cell_type": "code",
      "metadata": {
        "id": "VPQNQMRmEBWL"
      },
      "source": [
        "for layer in model.layers:\n",
        "    weights = layer.get_weights()"
      ],
      "execution_count": null,
      "outputs": []
    },
    {
      "cell_type": "markdown",
      "metadata": {
        "id": "yPhvoAO6Qnhb"
      },
      "source": [
        "Nous pouvons également dessiner une image des calques et de leurs formes. Ce n'est pas très utile mais agréable à voir."
      ]
    },
    {
      "cell_type": "markdown",
      "metadata": {
        "id": "DQ6bPDH8Qrel"
      },
      "source": [
        "Comme vous vous en doutez, la forme de la sortie est 1, car nous avons notre prédiction:"
      ]
    },
    {
      "cell_type": "code",
      "metadata": {
        "id": "3Ufh1UdAQmi7"
      },
      "source": [
        ""
      ],
      "execution_count": null,
      "outputs": []
    },
    {
      "cell_type": "code",
      "metadata": {
        "colab": {
          "base_uri": "https://localhost:8080/",
          "height": 323
        },
        "id": "-eA6VWimFW0k",
        "outputId": "a1a9b057-0604-4347-bfe8-8185dc8e0093"
      },
      "source": [
        "##from keras.utils import plot_model\n",
        "tf.keras.utils.plot_model(model, to_file='/tmp/model.png', show_shapes=True,)"
      ],
      "execution_count": null,
      "outputs": [
        {
          "output_type": "error",
          "ename": "AssertionError",
          "evalue": "ignored",
          "traceback": [
            "\u001b[0;31m---------------------------------------------------------------------------\u001b[0m",
            "\u001b[0;31mAssertionError\u001b[0m                            Traceback (most recent call last)",
            "\u001b[0;32m<ipython-input-12-433be3f1a9a9>\u001b[0m in \u001b[0;36m<module>\u001b[0;34m()\u001b[0m\n\u001b[1;32m      1\u001b[0m \u001b[0;31m##from keras.utils import plot_model\u001b[0m\u001b[0;34m\u001b[0m\u001b[0;34m\u001b[0m\u001b[0;34m\u001b[0m\u001b[0m\n\u001b[0;32m----> 2\u001b[0;31m \u001b[0mtf\u001b[0m\u001b[0;34m.\u001b[0m\u001b[0mkeras\u001b[0m\u001b[0;34m.\u001b[0m\u001b[0mutils\u001b[0m\u001b[0;34m.\u001b[0m\u001b[0mplot_model\u001b[0m\u001b[0;34m(\u001b[0m\u001b[0mmodel\u001b[0m\u001b[0;34m,\u001b[0m \u001b[0mto_file\u001b[0m\u001b[0;34m=\u001b[0m\u001b[0;34m'/tmp/model.png'\u001b[0m\u001b[0;34m,\u001b[0m \u001b[0mshow_shapes\u001b[0m\u001b[0;34m=\u001b[0m\u001b[0;32mTrue\u001b[0m\u001b[0;34m,\u001b[0m\u001b[0;34m)\u001b[0m\u001b[0;34m\u001b[0m\u001b[0;34m\u001b[0m\u001b[0m\n\u001b[0m",
            "\u001b[0;32m/usr/local/lib/python3.7/dist-packages/tensorflow/python/keras/utils/vis_utils.py\u001b[0m in \u001b[0;36mplot_model\u001b[0;34m(model, to_file, show_shapes, show_dtype, show_layer_names, rankdir, expand_nested, dpi)\u001b[0m\n\u001b[1;32m    327\u001b[0m       \u001b[0mrankdir\u001b[0m\u001b[0;34m=\u001b[0m\u001b[0mrankdir\u001b[0m\u001b[0;34m,\u001b[0m\u001b[0;34m\u001b[0m\u001b[0;34m\u001b[0m\u001b[0m\n\u001b[1;32m    328\u001b[0m       \u001b[0mexpand_nested\u001b[0m\u001b[0;34m=\u001b[0m\u001b[0mexpand_nested\u001b[0m\u001b[0;34m,\u001b[0m\u001b[0;34m\u001b[0m\u001b[0;34m\u001b[0m\u001b[0m\n\u001b[0;32m--> 329\u001b[0;31m       dpi=dpi)\n\u001b[0m\u001b[1;32m    330\u001b[0m   \u001b[0mto_file\u001b[0m \u001b[0;34m=\u001b[0m \u001b[0mpath_to_string\u001b[0m\u001b[0;34m(\u001b[0m\u001b[0mto_file\u001b[0m\u001b[0;34m)\u001b[0m\u001b[0;34m\u001b[0m\u001b[0;34m\u001b[0m\u001b[0m\n\u001b[1;32m    331\u001b[0m   \u001b[0;32mif\u001b[0m \u001b[0mdot\u001b[0m \u001b[0;32mis\u001b[0m \u001b[0;32mNone\u001b[0m\u001b[0;34m:\u001b[0m\u001b[0;34m\u001b[0m\u001b[0;34m\u001b[0m\u001b[0m\n",
            "\u001b[0;32m/usr/local/lib/python3.7/dist-packages/tensorflow/python/keras/utils/vis_utils.py\u001b[0m in \u001b[0;36mmodel_to_dot\u001b[0;34m(model, show_shapes, show_dtype, show_layer_names, rankdir, expand_nested, dpi, subgraph)\u001b[0m\n\u001b[1;32m    236\u001b[0m           \u001b[0minbound_layer_id\u001b[0m \u001b[0;34m=\u001b[0m \u001b[0mstr\u001b[0m\u001b[0;34m(\u001b[0m\u001b[0mid\u001b[0m\u001b[0;34m(\u001b[0m\u001b[0minbound_layer\u001b[0m\u001b[0;34m)\u001b[0m\u001b[0;34m)\u001b[0m\u001b[0;34m\u001b[0m\u001b[0;34m\u001b[0m\u001b[0m\n\u001b[1;32m    237\u001b[0m           \u001b[0;32mif\u001b[0m \u001b[0;32mnot\u001b[0m \u001b[0mexpand_nested\u001b[0m\u001b[0;34m:\u001b[0m\u001b[0;34m\u001b[0m\u001b[0;34m\u001b[0m\u001b[0m\n\u001b[0;32m--> 238\u001b[0;31m             \u001b[0;32massert\u001b[0m \u001b[0mdot\u001b[0m\u001b[0;34m.\u001b[0m\u001b[0mget_node\u001b[0m\u001b[0;34m(\u001b[0m\u001b[0minbound_layer_id\u001b[0m\u001b[0;34m)\u001b[0m\u001b[0;34m\u001b[0m\u001b[0;34m\u001b[0m\u001b[0m\n\u001b[0m\u001b[1;32m    239\u001b[0m             \u001b[0;32massert\u001b[0m \u001b[0mdot\u001b[0m\u001b[0;34m.\u001b[0m\u001b[0mget_node\u001b[0m\u001b[0;34m(\u001b[0m\u001b[0mlayer_id\u001b[0m\u001b[0;34m)\u001b[0m\u001b[0;34m\u001b[0m\u001b[0;34m\u001b[0m\u001b[0m\n\u001b[1;32m    240\u001b[0m             \u001b[0madd_edge\u001b[0m\u001b[0;34m(\u001b[0m\u001b[0mdot\u001b[0m\u001b[0;34m,\u001b[0m \u001b[0minbound_layer_id\u001b[0m\u001b[0;34m,\u001b[0m \u001b[0mlayer_id\u001b[0m\u001b[0;34m)\u001b[0m\u001b[0;34m\u001b[0m\u001b[0;34m\u001b[0m\u001b[0m\n",
            "\u001b[0;31mAssertionError\u001b[0m: "
          ]
        }
      ]
    },
    {
      "cell_type": "markdown",
      "metadata": {
        "id": "2BppnxkWQw_t"
      },
      "source": [
        "Nous pouvons maintenant exécuter des prédictions sur les données de test."
      ]
    },
    {
      "cell_type": "markdown",
      "metadata": {
        "id": "9DhKosgAQzke"
      },
      "source": [
        "Cela imprime le score ou la précision."
      ]
    },
    {
      "cell_type": "code",
      "metadata": {
        "colab": {
          "base_uri": "https://localhost:8080/"
        },
        "id": "rAUKJiJ4GX4-",
        "outputId": "4a72cb8a-a0c1-4a43-d6ea-6f563f95fdae"
      },
      "source": [
        "y_pred = model.predict_classes(X_test)"
      ],
      "execution_count": null,
      "outputs": [
        {
          "output_type": "stream",
          "text": [
            "/usr/local/lib/python3.7/dist-packages/keras/engine/sequential.py:450: UserWarning: `model.predict_classes()` is deprecated and will be removed after 2021-01-01. Please use instead:* `np.argmax(model.predict(x), axis=-1)`,   if your model does multi-class classification   (e.g. if it uses a `softmax` last-layer activation).* `(model.predict(x) > 0.5).astype(\"int32\")`,   if your model does binary classification   (e.g. if it uses a `sigmoid` last-layer activation).\n",
            "  warnings.warn('`model.predict_classes()` is deprecated and '\n"
          ],
          "name": "stderr"
        }
      ]
    },
    {
      "cell_type": "code",
      "metadata": {
        "colab": {
          "base_uri": "https://localhost:8080/"
        },
        "id": "SByR-Qr-GdDw",
        "outputId": "57fbbe5f-ff59-4667-eca6-1b22cf5df5e9"
      },
      "source": [
        "score = model.evaluate(X_test, y_test,verbose=1)\n",
        "\n",
        "print(score)"
      ],
      "execution_count": null,
      "outputs": [
        {
          "output_type": "stream",
          "text": [
            "1238/1238 [==============================] - 2s 1ms/step - loss: 0.1653 - accuracy: 0.9338\n",
            "[0.16530436277389526, 0.9337626099586487]\n"
          ],
          "name": "stdout"
        }
      ]
    },
    {
      "cell_type": "markdown",
      "metadata": {
        "id": "vo_4CZqsQ6Ze"
      },
      "source": [
        "Ainsi, notre modèle prédictif est précis à 93%."
      ]
    },
    {
      "cell_type": "markdown",
      "metadata": {
        "id": "cM04yB_sRKi_"
      },
      "source": [
        "biblio\n",
        "https://www.bmc.com/blogs/keras-neural-network-classification/"
      ]
    },
    {
      "cell_type": "code",
      "metadata": {
        "colab": {
          "base_uri": "https://localhost:8080/"
        },
        "id": "O6YUdF9ea9o_",
        "outputId": "7448ea29-79a8-4cf0-90e9-47d0051bb57e"
      },
      "source": [
        "import tensorflow as tf\n",
        "\n",
        "# Create a converter\n",
        "converter = tf.lite.TFLiteConverter.from_keras_model(model)\n",
        "# Convert the model\n",
        "tflite_model = converter.convert()\n",
        "# Create the tflite model file\n",
        "tflite_model_name = \"mymodel.tflite\"\n",
        "open(tflite_model_name, \"wb\").write(tflite_model)\n",
        "# Set quantize to true \n",
        "converter.post_training_quantize=True"
      ],
      "execution_count": null,
      "outputs": [
        {
          "output_type": "stream",
          "text": [
            "INFO:tensorflow:Assets written to: /tmp/tmp5i08anup/assets\n"
          ],
          "name": "stdout"
        }
      ]
    },
    {
      "cell_type": "code",
      "metadata": {
        "id": "OjtgF3opROJ2"
      },
      "source": [
        "##model.save(\"C:/Users/AMIRA MT/Documents/model.h5\")"
      ],
      "execution_count": null,
      "outputs": []
    },
    {
      "cell_type": "code",
      "metadata": {
        "id": "_4RegKF8sQcc"
      },
      "source": [
        "##model.save(\"trained_model.h5\", include_optimizer=False)"
      ],
      "execution_count": null,
      "outputs": []
    },
    {
      "cell_type": "code",
      "metadata": {
        "id": "sEorJk5xtKZX"
      },
      "source": [
        ""
      ],
      "execution_count": null,
      "outputs": []
    }
  ]
}